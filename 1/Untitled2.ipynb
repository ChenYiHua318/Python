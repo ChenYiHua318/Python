{
 "cells": [
  {
   "cell_type": "code",
   "execution_count": 1,
   "metadata": {
    "collapsed": true
   },
   "outputs": [],
   "source": [
    "import pandas as pd"
   ]
  },
  {
   "cell_type": "code",
   "execution_count": 2,
   "metadata": {
    "collapsed": true
   },
   "outputs": [],
   "source": [
    "url=\"http://www.nasdaq.com/screening/companies-by-industry.aspx?exchange=NASDAQ&render=download\""
   ]
  },
  {
   "cell_type": "code",
   "execution_count": 3,
   "metadata": {
    "collapsed": true
   },
   "outputs": [],
   "source": [
    "df=pd.read_csv (url)"
   ]
  },
  {
   "cell_type": "code",
   "execution_count": 4,
   "metadata": {},
   "outputs": [
    {
     "data": {
      "text/plain": [
       "<bound method NDFrame.head of      Symbol                                    Name LastSale     MarketCap  \\\n",
       "0       PIH  1347 Property Insurance Holdings, Inc.      7.1  4.229304e+07   \n",
       "1      TURN                180 Degree Capital Corp.   2.0592  6.408552e+07   \n",
       "2      FLWS                 1-800 FLOWERS.COM, Inc.    9.575  6.184033e+08   \n",
       "3      FCCY           1st Constitution Bancorp (NJ)    17.85  1.440416e+08   \n",
       "4      SRCE                  1st Source Corporation    50.69  1.314702e+09   \n",
       "5      VNET                    21Vianet Group, Inc.    7.225  4.312735e+08   \n",
       "6      TWOU                                2U, Inc.    63.96  3.324704e+09   \n",
       "7      JOBS                             51job, Inc.   62.015  2.281741e+09   \n",
       "8      CAFD              8point3 Energy Partners LP    15.22  1.203673e+09   \n",
       "9      EGHT                                 8x8 Inc       14  1.285602e+09   \n",
       "10     AVHI                         A V Homes, Inc.    16.05  3.604138e+08   \n",
       "11     SHLM                       A. Schulman, Inc.     38.6  1.138696e+09   \n",
       "12     AAON                              AAON, Inc.     34.7  1.825346e+09   \n",
       "13     ABAX                            ABAXIS, Inc.       47  1.066459e+09   \n",
       "14     ABEO                Abeona Therapeutics Inc.   16.225  7.570952e+08   \n",
       "15    ABEOW                Abeona Therapeutics Inc.    11.14  0.000000e+00   \n",
       "16     ABIL                            Ability Inc.    0.622  1.602032e+07   \n",
       "17     ABMD                           ABIOMED, Inc.   196.41  8.681476e+09   \n",
       "18     ABLX                               Ablynx NV    21.08  2.409444e+08   \n",
       "19     AXAS           Abraxas Petroleum Corporation     2.18  3.615528e+08   \n",
       "20     ACIU                            AC Immune SA    11.89  6.768055e+08   \n",
       "21     ACIA             Acacia Communications, Inc.     36.8  1.443595e+09   \n",
       "22     ACTG             Acacia Research Corporation      4.5  2.276885e+08   \n",
       "23     ACHC         Acadia Healthcare Company, Inc.    29.99  2.634729e+09   \n",
       "24     ACAD             ACADIA Pharmaceuticals Inc.   32.545  3.983518e+09   \n",
       "25     ACST                     Acasti Pharma, Inc.     1.25  1.841992e+07   \n",
       "26     AXDX            Accelerate Diagnostics, Inc.     19.4  1.072786e+09   \n",
       "27     ACCP                Accelerated Pharma, Inc.      n/a  0.000000e+00   \n",
       "28     XLRN                   Acceleron Pharma Inc.    37.44  1.681104e+09   \n",
       "29     ANCX             Access National Corporation    28.57  5.841633e+08   \n",
       "...     ...                                     ...      ...           ...   \n",
       "3264   YERR       Yangtze River Development Limited    16.25  2.800597e+09   \n",
       "3265   YTRA                      Yatra Online, Inc.     8.36  2.828092e+08   \n",
       "3266   YTEN                Yield10 Bioscience, Inc.     2.64  9.138925e+06   \n",
       "3267    YIN     Yintech Investment Holdings Limited    12.75  1.422040e+08   \n",
       "3268   YOGA                         YogaWorks, Inc.     2.91  4.773383e+07   \n",
       "3269   YGYI          Youngevity International, Inc.     4.72  9.288094e+07   \n",
       "3270   YRCW                     YRC Worldwide, Inc.    13.45  4.510085e+08   \n",
       "3271   YECO            Yulong Eco-Materials Limited    0.569  6.859479e+06   \n",
       "3272     YY                                 YY Inc.    92.33  4.341583e+09   \n",
       "3273   ZFGN                            Zafgen, Inc.     3.57  9.811761e+07   \n",
       "3274   ZAGG                                ZAGG Inc    18.85  5.271329e+08   \n",
       "3275   ZLAB                         Zai Lab Limited    27.91  1.641945e+08   \n",
       "3276   ZAIS               ZAIS Group Holdings, Inc.     3.74  5.490612e+07   \n",
       "3277   ZEAL                      Zealand Pharma A/S    15.39  6.729665e+07   \n",
       "3278   ZBRA          Zebra Technologies Corporation  115.855  6.152855e+09   \n",
       "3279      Z                      Zillow Group, Inc.     40.8  7.634834e+09   \n",
       "3280     ZG                      Zillow Group, Inc.    40.98  7.668517e+09   \n",
       "3281     ZN                      Zion Oil & Gas Inc   2.1489  1.115549e+08   \n",
       "3282  ZNWAA                      Zion Oil & Gas Inc      n/a  0.000000e+00   \n",
       "3283   ZION                    Zions Bancorporation    46.45  9.276622e+09   \n",
       "3284  ZIONW                    Zions Bancorporation    14.78  0.000000e+00   \n",
       "3285  ZIONZ                    Zions Bancorporation    11.15  0.000000e+00   \n",
       "3286   ZIOP                   ZIOPHARM Oncology Inc     4.68  6.643859e+08   \n",
       "3287   ZIXI                         Zix Corporation     4.77  2.634099e+08   \n",
       "3288   ZKIN         ZK International Group Co., Ltd     7.38  9.963000e+07   \n",
       "3289   ZGNX                           Zogenix, Inc.    41.35  1.027179e+09   \n",
       "3290   ZSAN               Zosano Pharma Corporation   0.6979  2.737868e+07   \n",
       "3291   ZUMZ                             Zumiez Inc.    17.65  4.453196e+08   \n",
       "3292   ZYNE           Zynerba Pharmaceuticals, Inc.    11.19  1.483490e+08   \n",
       "3293   ZNGA                              Zynga Inc.     3.86  3.340679e+09   \n",
       "\n",
       "       ADR TSO IPOyear             Sector  \\\n",
       "0          n/a    2014            Finance   \n",
       "1          n/a     n/a            Finance   \n",
       "2          n/a    1999  Consumer Services   \n",
       "3          n/a     n/a            Finance   \n",
       "4          n/a     n/a            Finance   \n",
       "5     59691833    2011         Technology   \n",
       "6          n/a    2014         Technology   \n",
       "7     36793371    2004         Technology   \n",
       "8          n/a    2015   Public Utilities   \n",
       "9          n/a     n/a   Public Utilities   \n",
       "10         n/a     n/a      Capital Goods   \n",
       "11         n/a    1972   Basic Industries   \n",
       "12         n/a     n/a      Capital Goods   \n",
       "13         n/a    1992      Capital Goods   \n",
       "14         n/a     n/a        Health Care   \n",
       "15         n/a     n/a        Health Care   \n",
       "16         n/a    2014            Finance   \n",
       "17         n/a     n/a        Health Care   \n",
       "18    11430000    2017        Health Care   \n",
       "19         n/a     n/a             Energy   \n",
       "20         n/a    2016        Health Care   \n",
       "21         n/a    2016         Technology   \n",
       "22         n/a     n/a      Miscellaneous   \n",
       "23         n/a     n/a        Health Care   \n",
       "24         n/a    2004        Health Care   \n",
       "25         n/a     n/a        Health Care   \n",
       "26         n/a     n/a      Capital Goods   \n",
       "27         n/a     n/a                n/a   \n",
       "28         n/a    2013        Health Care   \n",
       "29         n/a     n/a            Finance   \n",
       "...        ...     ...                ...   \n",
       "3264       n/a     n/a            Finance   \n",
       "3265       n/a     n/a  Consumer Services   \n",
       "3266       n/a     n/a   Basic Industries   \n",
       "3267  11153257    2016            Finance   \n",
       "3268       n/a    2017  Consumer Services   \n",
       "3269       n/a     n/a  Consumer Services   \n",
       "3270       n/a     n/a     Transportation   \n",
       "3271       n/a    2017      Capital Goods   \n",
       "3272  47022454    2012         Technology   \n",
       "3273       n/a    2014        Health Care   \n",
       "3274       n/a     n/a  Consumer Services   \n",
       "3275   5883000    2017        Health Care   \n",
       "3276       n/a    2013            Finance   \n",
       "3277   4372752    2017        Health Care   \n",
       "3278       n/a    1991         Technology   \n",
       "3279       n/a     n/a      Miscellaneous   \n",
       "3280       n/a    2011      Miscellaneous   \n",
       "3281       n/a     n/a             Energy   \n",
       "3282       n/a     n/a             Energy   \n",
       "3283       n/a     n/a            Finance   \n",
       "3284       n/a     n/a            Finance   \n",
       "3285       n/a     n/a            Finance   \n",
       "3286       n/a     n/a        Health Care   \n",
       "3287       n/a     n/a         Technology   \n",
       "3288       n/a    2017      Capital Goods   \n",
       "3289       n/a    2010        Health Care   \n",
       "3290       n/a    2015        Health Care   \n",
       "3291       n/a    2005  Consumer Services   \n",
       "3292       n/a    2015        Health Care   \n",
       "3293       n/a    2011         Technology   \n",
       "\n",
       "                                               Industry  \\\n",
       "0                            Property-Casualty Insurers   \n",
       "1                            Finance/Investors Services   \n",
       "2                                Other Specialty Stores   \n",
       "3                                  Savings Institutions   \n",
       "4                                           Major Banks   \n",
       "5       Computer Software: Programming, Data Processing   \n",
       "6               Computer Software: Prepackaged Software   \n",
       "7                       Diversified Commercial Services   \n",
       "8                           Electric Utilities: Central   \n",
       "9                          Telecommunications Equipment   \n",
       "10                                         Homebuilding   \n",
       "11                                      Major Chemicals   \n",
       "12                      Industrial Machinery/Components   \n",
       "13                      Industrial Machinery/Components   \n",
       "14                                Major Pharmaceuticals   \n",
       "15                                Major Pharmaceuticals   \n",
       "16                                    Business Services   \n",
       "17                           Medical/Dental Instruments   \n",
       "18    Biotechnology: Biological Products (No Diagnos...   \n",
       "19                                 Oil & Gas Production   \n",
       "20                                Major Pharmaceuticals   \n",
       "21                                       Semiconductors   \n",
       "22                               Multi-Sector Companies   \n",
       "23                                 Medical Specialities   \n",
       "24                                Major Pharmaceuticals   \n",
       "25                                Major Pharmaceuticals   \n",
       "26     Biotechnology: Laboratory Analytical Instruments   \n",
       "27                                                  n/a   \n",
       "28    Biotechnology: Biological Products (No Diagnos...   \n",
       "29                                 Savings Institutions   \n",
       "...                                                 ...   \n",
       "3264                                        Real Estate   \n",
       "3265                            Transportation Services   \n",
       "3266                               Containers/Packaging   \n",
       "3267                 Investment Bankers/Brokers/Service   \n",
       "3268                            Other Consumer Services   \n",
       "3269                     Catalog/Specialty Distribution   \n",
       "3270                  Trucking Freight/Courier Services   \n",
       "3271                                 Building Materials   \n",
       "3272                                       EDP Services   \n",
       "3273                              Major Pharmaceuticals   \n",
       "3274                             Other Specialty Stores   \n",
       "3275                              Major Pharmaceuticals   \n",
       "3276                                Investment Managers   \n",
       "3277                              Major Pharmaceuticals   \n",
       "3278                    Industrial Machinery/Components   \n",
       "3279                                  Business Services   \n",
       "3280                                  Business Services   \n",
       "3281                               Oil & Gas Production   \n",
       "3282                               Oil & Gas Production   \n",
       "3283                                        Major Banks   \n",
       "3284                                        Major Banks   \n",
       "3285                                        Major Banks   \n",
       "3286                              Major Pharmaceuticals   \n",
       "3287                                       EDP Services   \n",
       "3288                                 Metal Fabrications   \n",
       "3289                              Major Pharmaceuticals   \n",
       "3290                              Major Pharmaceuticals   \n",
       "3291                     Clothing/Shoe/Accessory Stores   \n",
       "3292                              Major Pharmaceuticals   \n",
       "3293                                       EDP Services   \n",
       "\n",
       "                           Summary Quote  Unnamed: 9  \n",
       "0       http://www.nasdaq.com/symbol/pih         NaN  \n",
       "1      http://www.nasdaq.com/symbol/turn         NaN  \n",
       "2      http://www.nasdaq.com/symbol/flws         NaN  \n",
       "3      http://www.nasdaq.com/symbol/fccy         NaN  \n",
       "4      http://www.nasdaq.com/symbol/srce         NaN  \n",
       "5      http://www.nasdaq.com/symbol/vnet         NaN  \n",
       "6      http://www.nasdaq.com/symbol/twou         NaN  \n",
       "7      http://www.nasdaq.com/symbol/jobs         NaN  \n",
       "8      http://www.nasdaq.com/symbol/cafd         NaN  \n",
       "9      http://www.nasdaq.com/symbol/eght         NaN  \n",
       "10     http://www.nasdaq.com/symbol/avhi         NaN  \n",
       "11     http://www.nasdaq.com/symbol/shlm         NaN  \n",
       "12     http://www.nasdaq.com/symbol/aaon         NaN  \n",
       "13     http://www.nasdaq.com/symbol/abax         NaN  \n",
       "14     http://www.nasdaq.com/symbol/abeo         NaN  \n",
       "15    http://www.nasdaq.com/symbol/abeow         NaN  \n",
       "16     http://www.nasdaq.com/symbol/abil         NaN  \n",
       "17     http://www.nasdaq.com/symbol/abmd         NaN  \n",
       "18     http://www.nasdaq.com/symbol/ablx         NaN  \n",
       "19     http://www.nasdaq.com/symbol/axas         NaN  \n",
       "20     http://www.nasdaq.com/symbol/aciu         NaN  \n",
       "21     http://www.nasdaq.com/symbol/acia         NaN  \n",
       "22     http://www.nasdaq.com/symbol/actg         NaN  \n",
       "23     http://www.nasdaq.com/symbol/achc         NaN  \n",
       "24     http://www.nasdaq.com/symbol/acad         NaN  \n",
       "25     http://www.nasdaq.com/symbol/acst         NaN  \n",
       "26     http://www.nasdaq.com/symbol/axdx         NaN  \n",
       "27     http://www.nasdaq.com/symbol/accp         NaN  \n",
       "28     http://www.nasdaq.com/symbol/xlrn         NaN  \n",
       "29     http://www.nasdaq.com/symbol/ancx         NaN  \n",
       "...                                  ...         ...  \n",
       "3264   http://www.nasdaq.com/symbol/yerr         NaN  \n",
       "3265   http://www.nasdaq.com/symbol/ytra         NaN  \n",
       "3266   http://www.nasdaq.com/symbol/yten         NaN  \n",
       "3267    http://www.nasdaq.com/symbol/yin         NaN  \n",
       "3268   http://www.nasdaq.com/symbol/yoga         NaN  \n",
       "3269   http://www.nasdaq.com/symbol/ygyi         NaN  \n",
       "3270   http://www.nasdaq.com/symbol/yrcw         NaN  \n",
       "3271   http://www.nasdaq.com/symbol/yeco         NaN  \n",
       "3272     http://www.nasdaq.com/symbol/yy         NaN  \n",
       "3273   http://www.nasdaq.com/symbol/zfgn         NaN  \n",
       "3274   http://www.nasdaq.com/symbol/zagg         NaN  \n",
       "3275   http://www.nasdaq.com/symbol/zlab         NaN  \n",
       "3276   http://www.nasdaq.com/symbol/zais         NaN  \n",
       "3277   http://www.nasdaq.com/symbol/zeal         NaN  \n",
       "3278   http://www.nasdaq.com/symbol/zbra         NaN  \n",
       "3279      http://www.nasdaq.com/symbol/z         NaN  \n",
       "3280     http://www.nasdaq.com/symbol/zg         NaN  \n",
       "3281     http://www.nasdaq.com/symbol/zn         NaN  \n",
       "3282  http://www.nasdaq.com/symbol/znwaa         NaN  \n",
       "3283   http://www.nasdaq.com/symbol/zion         NaN  \n",
       "3284  http://www.nasdaq.com/symbol/zionw         NaN  \n",
       "3285  http://www.nasdaq.com/symbol/zionz         NaN  \n",
       "3286   http://www.nasdaq.com/symbol/ziop         NaN  \n",
       "3287   http://www.nasdaq.com/symbol/zixi         NaN  \n",
       "3288   http://www.nasdaq.com/symbol/zkin         NaN  \n",
       "3289   http://www.nasdaq.com/symbol/zgnx         NaN  \n",
       "3290   http://www.nasdaq.com/symbol/zsan         NaN  \n",
       "3291   http://www.nasdaq.com/symbol/zumz         NaN  \n",
       "3292   http://www.nasdaq.com/symbol/zyne         NaN  \n",
       "3293   http://www.nasdaq.com/symbol/znga         NaN  \n",
       "\n",
       "[3294 rows x 10 columns]>"
      ]
     },
     "execution_count": 4,
     "metadata": {},
     "output_type": "execute_result"
    }
   ],
   "source": [
    "df.head"
   ]
  },
  {
   "cell_type": "code",
   "execution_count": 5,
   "metadata": {
    "collapsed": true
   },
   "outputs": [],
   "source": [
    "import folium"
   ]
  },
  {
   "cell_type": "code",
   "execution_count": 6,
   "metadata": {
    "collapsed": true
   },
   "outputs": [],
   "source": [
    "import geocoder"
   ]
  },
  {
   "cell_type": "code",
   "execution_count": 9,
   "metadata": {},
   "outputs": [],
   "source": [
    "location=geocoder.google(\"中山大學管理學院\").latlng"
   ]
  },
  {
   "cell_type": "code",
   "execution_count": null,
   "metadata": {},
   "outputs": [],
   "source": []
  },
  {
   "cell_type": "code",
   "execution_count": 10,
   "metadata": {},
   "outputs": [
    {
     "data": {
      "text/plain": [
       "[22.627447, 120.265274]"
      ]
     },
     "execution_count": 10,
     "metadata": {},
     "output_type": "execute_result"
    }
   ],
   "source": [
    "location"
   ]
  },
  {
   "cell_type": "code",
   "execution_count": 11,
   "metadata": {},
   "outputs": [
    {
     "data": {
      "text/html": [
       "<div style=\"width:100%;\"><div style=\"position:relative;width:100%;height:0;padding-bottom:60%;\"><iframe src=\"data:text/html;charset=utf-8;base64,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\" style=\"position:absolute;width:100%;height:100%;left:0;top:0;border:none !important;\" allowfullscreen webkitallowfullscreen mozallowfullscreen></iframe></div></div>"
      ],
      "text/plain": [
       "<folium.folium.Map at 0xdf6f1a4198>"
      ]
     },
     "execution_count": 11,
     "metadata": {},
     "output_type": "execute_result"
    }
   ],
   "source": [
    "folium.Map(location=[22.627447, 120.265274])"
   ]
  },
  {
   "cell_type": "code",
   "execution_count": null,
   "metadata": {
    "collapsed": true
   },
   "outputs": [],
   "source": []
  }
 ],
 "metadata": {
  "kernelspec": {
   "display_name": "Python 3",
   "language": "python",
   "name": "python3"
  },
  "language_info": {
   "codemirror_mode": {
    "name": "ipython",
    "version": 3
   },
   "file_extension": ".py",
   "mimetype": "text/x-python",
   "name": "python",
   "nbconvert_exporter": "python",
   "pygments_lexer": "ipython3",
   "version": "3.6.2"
  }
 },
 "nbformat": 4,
 "nbformat_minor": 2
}
